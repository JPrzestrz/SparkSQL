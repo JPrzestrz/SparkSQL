{
 "cells": [
  {
   "cell_type": "code",
   "execution_count": 1,
   "metadata": {},
   "outputs": [
    {
     "name": "stdout",
     "output_type": "stream",
     "text": [
      "23/03/31 15:59:42 WARN Utils: Your hostname, kprze resolves to a loopback address: 127.0.1.1; using 192.168.0.43 instead (on interface enp0s3)\n",
      "23/03/31 15:59:42 WARN Utils: Set SPARK_LOCAL_IP if you need to bind to another address\n"
     ]
    },
    {
     "name": "stderr",
     "output_type": "stream",
     "text": [
      "Setting default log level to \"WARN\".\n",
      "To adjust logging level use sc.setLogLevel(newLevel). For SparkR, use setLogLevel(newLevel).\n"
     ]
    },
    {
     "name": "stdout",
     "output_type": "stream",
     "text": [
      "23/03/31 15:59:43 WARN NativeCodeLoader: Unable to load native-hadoop library for your platform... using builtin-java classes where applicable\n"
     ]
    }
   ],
   "source": [
    "import findspark\n",
    "findspark.init()\n",
    "\n",
    "import pyspark # only run after findspark.init()\n",
    "from pyspark.sql import SparkSession\n",
    "spark = SparkSession.builder.getOrCreate()"
   ]
  },
  {
   "cell_type": "code",
   "execution_count": 3,
   "metadata": {},
   "outputs": [
    {
     "name": "stdout",
     "output_type": "stream",
     "text": [
      "+--------+-------------+-----+\n",
      "|train_id|      station| time|\n",
      "+--------+-------------+-----+\n",
      "|     324|San Francisco|7:59a|\n",
      "|     324|  22nd Street|8:03a|\n",
      "|     324|     Millbrae|8:16a|\n",
      "|     324|    Hillsdale|8:24a|\n",
      "|     324| Redwood City|8:31a|\n",
      "|     324|    Palo Alto|8:37a|\n",
      "|     324|     San Jose|9:05a|\n",
      "|     217|       Gilroy|6:06a|\n",
      "|     217|   San Martin|6:15a|\n",
      "|     217|  Morgan Hill|6:21a|\n",
      "|     217| Blossom Hill|6:36a|\n",
      "|     217|      Capitol|6:42a|\n",
      "|     217|       Tamien|6:50a|\n",
      "|     217|     San Jose|6:59a|\n",
      "+--------+-------------+-----+\n",
      "\n"
     ]
    }
   ],
   "source": [
    "# Load trainsched.txt\n",
    "df = spark.read.csv(\"trainsched.txt\", header=True)\n",
    "df.show()"
   ]
  }
 ],
 "metadata": {
  "kernelspec": {
   "display_name": "Python 3 (ipykernel)",
   "language": "python",
   "name": "python3"
  },
  "language_info": {
   "codemirror_mode": {
    "name": "ipython",
    "version": 3
   },
   "file_extension": ".py",
   "mimetype": "text/x-python",
   "name": "python",
   "nbconvert_exporter": "python",
   "pygments_lexer": "ipython3",
   "version": "3.10.6"
  }
 },
 "nbformat": 4,
 "nbformat_minor": 2
}
